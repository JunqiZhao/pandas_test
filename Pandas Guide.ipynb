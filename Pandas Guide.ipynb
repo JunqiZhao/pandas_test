{
 "cells": [
  {
   "cell_type": "markdown",
   "metadata": {},
   "source": [
    "## Test the performance"
   ]
  },
  {
   "cell_type": "markdown",
   "metadata": {},
   "source": [
    "## Check general information of DataFrame"
   ]
  },
  {
   "cell_type": "code",
   "execution_count": null,
   "metadata": {},
   "outputs": [],
   "source": [
    "# check rows & columns\n",
    "df.shape\n",
    "# check column type\n",
    "df.info()\n",
    "# check columns names\n",
    "df.columns\n",
    "# check index\n",
    "df.index"
   ]
  },
  {
   "cell_type": "markdown",
   "metadata": {},
   "source": [
    "## Common Functions"
   ]
  },
  {
   "cell_type": "code",
   "execution_count": null,
   "metadata": {},
   "outputs": [],
   "source": [
    "# operation on column\n",
    "df.quantity.sum()\n",
    "\n",
    "# operation between columns to create new column\n",
    "(df['quantity'] * df['item_price']).sum()\n",
    "\n",
    "# check item frequency\n",
    "df['order_id'].value_counts()\n",
    "\n",
    "# sort by column\n",
    "df.sort_values(by = 'item_price', ascending = True, inplace = False) # pay attention to the \"inplace = False\", if true, the original df will be modified in-place\n",
    "\n",
    "# quick check the number of unique elements in a column (.nunique() function)\n",
    "df.Team.nunique()\n",
    "\n",
    "# deleting\n",
    "df.drop(columns = ['Total'], inplace = True) # pay attention to the inplace\n",
    "\n",
    "# renaming columns\n",
    "df.rename(columns = {0:'bedrs', 1:'baths', 2:'price_sqr_meter'}, inplace=True)\n",
    "\n",
    "# reorder the columns in dataframe\n",
    "df[['name', 'type', 'hp', 'evolution','pokedex']]"
   ]
  },
  {
   "cell_type": "markdown",
   "metadata": {},
   "source": [
    "## Data Slicing and Filtering"
   ]
  },
  {
   "cell_type": "code",
   "execution_count": null,
   "metadata": {},
   "outputs": [],
   "source": [
    "# set index & re-index\n",
    "'''\n",
    "The index is an unique key. By default, a series of number will be generated as index.\n",
    "We can modify the index in-place.\n",
    "'''\n",
    "df.set_index('origin', inplace=True)\n",
    "df.reindex('origin', drop = True, inplace = True) # reindex and drop the previous index in-place\n",
    "\n",
    "# selection using column or row names\n",
    "df.loc[:,['col1', 'col2', 'col3']]\n",
    "df.loc[df.Team.isin(['England', 'Italy', 'Russia']), ['Team', 'Shooting Accuracy']] # using slection creteria in .loc method\n",
    "\n",
    "# selection using column or row index\n",
    "df.iloc[:,:7] # selection the first 7 columns\n",
    "df.iloc[:,:-3] # selection until the last 3 columns\n",
    "\n",
    "# multiple filtering condition\n",
    "df[(df.item_name == 'Canned Soda') & (df.quantity>=2)] # \"and\"\n",
    "df[(df.item_name == 'Canned Soda') | (df.quantity>=2)] # \"or\"\n",
    "\n",
    "# filtering with string (str type has its associated special methods)\n",
    "df.Team[df.Team.str.startswith('G')]"
   ]
  },
  {
   "cell_type": "markdown",
   "metadata": {},
   "source": [
    "## Group functions"
   ]
  },
  {
   "cell_type": "code",
   "execution_count": null,
   "metadata": {},
   "outputs": [],
   "source": [
    "# grouping and apply built-in functions\n",
    "df.groupby('order_id')['quantity'].sum() # check total quantity per order\n",
    "df.groupby('continent')['wine_servings'].describe() # check basic statistics per group\n",
    "\n",
    "# grouping and apply customized functions\n",
    "    \n",
    "# create a function\n",
    "def gender_to_numeric(x):\n",
    "    if x == 'M':\n",
    "        return 1\n",
    "    if x == 'F':\n",
    "        return 0\n",
    "\n",
    "# apply the function to the gender column and create a new column\n",
    "df['gender_n'] = df['gender'].apply(gender_to_numeric)\n",
    "\n",
    "# grouping and apply multiple functions (using the aggregating/agg function)\n",
    "df.groupby('occupation').age.agg(['min', 'max']) # apply different functions to 1-level group\n",
    "df.groupby(['occupation', 'gender']).agg({'gender': 'count'}) # grouping as two levels and applying function on the second level\n",
    "\n",
    "# grouping and apply anonomous function\n",
    "df['name'].apply(lambda x: x.capitalize()) # element-wise operation with customized anomous function"
   ]
  },
  {
   "cell_type": "markdown",
   "metadata": {},
   "source": [
    "## Merge dataframes"
   ]
  },
  {
   "cell_type": "code",
   "execution_count": null,
   "metadata": {},
   "outputs": [],
   "source": [
    "# append one dataframe to the tail of the other\n",
    "df = df_1.append(df_2) # assuming df1 and df2 have the headers\n",
    "df = pd.concat([df_1, df_2], axis = 0) # stacking rows (axis = 0) or columns (axis = 1)\n",
    "df = pd.merge(left = data1, right = data2, on = 'subject_id', how='inner') # merge two dataframes with common subject_id"
   ]
  },
  {
   "cell_type": "markdown",
   "metadata": {},
   "source": [
    "## Dealing with time-series data"
   ]
  },
  {
   "cell_type": "code",
   "execution_count": null,
   "metadata": {},
   "outputs": [],
   "source": [
    "# set date-time format\n",
    "df.year = pd.to_datetime(pd.year, format='%Y')\n",
    "\n",
    "# resample (like grouping into different granuility) and apply functions\n",
    "df_resample = df.year.resample('10YS').sum() # sum up 10 years' information"
   ]
  },
  {
   "cell_type": "markdown",
   "metadata": {},
   "source": [
    "## Data cleaning"
   ]
  },
  {
   "cell_type": "code",
   "execution_count": null,
   "metadata": {},
   "outputs": [],
   "source": [
    "# check duplicate records\n",
    "df.duplicated().any()\n",
    "\n",
    "# check missing values\n",
    "df.isna().any()\n",
    "\n",
    "# check the number of missing values in each column\n",
    "df.isna().sum()\n",
    "\n",
    "# drop missing values\n",
    "df.dropna(axis = 0, how = 'any') # drop rows with missing values for any columns\n",
    "\n",
    "# fill missing values\n",
    "df.fillna(1, inplace = True)"
   ]
  }
 ],
 "metadata": {
  "kernelspec": {
   "display_name": "Python 3.9.2 ('st')",
   "language": "python",
   "name": "python3"
  },
  "language_info": {
   "codemirror_mode": {
    "name": "ipython",
    "version": 3
   },
   "file_extension": ".py",
   "mimetype": "text/x-python",
   "name": "python",
   "nbconvert_exporter": "python",
   "pygments_lexer": "ipython3",
   "version": "3.9.2"
  },
  "orig_nbformat": 4,
  "vscode": {
   "interpreter": {
    "hash": "4b19cc8176ec4252da4bc4feb6995512b8063f7d03f2e3bfcaef298dce8da027"
   }
  }
 },
 "nbformat": 4,
 "nbformat_minor": 2
}
